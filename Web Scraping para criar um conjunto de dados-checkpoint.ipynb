{
 "cells": [
  {
   "cell_type": "code",
   "execution_count": null,
   "id": "5fa9c38d",
   "metadata": {},
   "outputs": [],
   "source": [
    "import csv\n",
    "from urllib.request import urlopen\n",
    "from bs4 import BeautifulSoup\n",
    "\n",
    "html = urlopen('https://en.wikipedia.org/wiki/Comparison_of_programming_languages')\n",
    "soup = BeautifulSoup(html, 'html.parser')\n",
    "table = soup.findAll('table', {'class': 'wikitable'})[0]\n",
    "rows = table.findAll('tr')\n",
    "\n",
    "with open('language.csv', 'wt+', newline='') as f:\n",
    "    writer = csv.writer(f)\n",
    "    for i in rows:\n",
    "        row = []\n",
    "        for cell in i.findAll(['td', 'th']):\n",
    "            row.append(cell.get_text())\n",
    "        writer.writerow(row)\n",
    "import pandas as pd\n",
    "\n",
    "a = pd.read_csv('language.csv')\n",
    "a.head()"
   ]
  }
 ],
 "metadata": {
  "kernelspec": {
   "display_name": "Python 3",
   "language": "python",
   "name": "python3"
  },
  "language_info": {
   "codemirror_mode": {
    "name": "ipython",
    "version": 3
   },
   "file_extension": ".py",
   "mimetype": "text/x-python",
   "name": "python",
   "nbconvert_exporter": "python",
   "pygments_lexer": "ipython3",
   "version": "3.8.8"
  }
 },
 "nbformat": 4,
 "nbformat_minor": 5
}
